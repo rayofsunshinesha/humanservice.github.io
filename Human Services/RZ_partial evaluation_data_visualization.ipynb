{
 "cells": [
  {
   "cell_type": "markdown",
   "metadata": {},
   "source": [
    "## Loading Libraries"
   ]
  },
  {
   "cell_type": "code",
   "execution_count": null,
   "metadata": {},
   "outputs": [],
   "source": [
    "# remember to put this line in your notebook, otherwise the visualization won't show up\n",
    "%pylab inline\n",
    "# import the packages\n",
    "# numpy for array and matrix computation\n",
    "import numpy as np\n",
    "\n",
    "# pandas for data analysis\n",
    "import pandas as pd\n",
    "\n",
    "# matplotlib and seaborn are the data visualization packages\n",
    "import matplotlib.pyplot as plt\n",
    "import seaborn as sns\n",
    "\n",
    "# sqlalchemy an psycopg2 are sql connection packages\n",
    "from sqlalchemy import create_engine\n",
    "\n",
    "# GeoPandas for spatial data manipulation\n",
    "import geopandas as gpd\n",
    "# PySAL for spatial statistics\n",
    "import pysal as ps\n",
    "# shapely for specific spatial data tasks (GeoPandas uses Shapely objects)\n",
    "from shapely.geometry import Point, LineString, Polygon\n",
    "\n",
    "# configure pandas display: set the maximum number of columns displayed to 25\n",
    "pd.options.display.max_columns = 25\n",
    "\n",
    "# use the __future__ version of division and print\n",
    "from __future__ import division, print_function"
   ]
  },
  {
   "cell_type": "markdown",
   "metadata": {},
   "source": [
    "## Load the Data"
   ]
  },
  {
   "cell_type": "code",
   "execution_count": null,
   "metadata": {},
   "outputs": [],
   "source": [
    "# to create a connection to the database, we need to pass the name of the database and host of the database\n",
    "# to the psycopg2.connect function\n",
    "DB_NAME = \"appliedda\" # specify the name `appliedda`\n",
    "DB_HOST = \"10.10.2.10\" # specify the host address\n",
    "# pass parameters to the function, and save the resulting connection to a variable (sql_connection)\n",
    "sql_connection = create_engine('postgresql://{}/{}'.format(DB_HOST, DB_NAME))\n",
    "print(\"success\")"
   ]
  },
  {
   "cell_type": "code",
   "execution_count": null,
   "metadata": {
    "collapsed": true
   },
   "outputs": [],
   "source": [
    "QUERY = '''\n",
    "SELECT *\n",
    "FROM c6.partial_evaluate\n",
    "'''"
   ]
  },
  {
   "cell_type": "code",
   "execution_count": null,
   "metadata": {
    "collapsed": true
   },
   "outputs": [],
   "source": [
    "# here we pass the query and the connection to the pd.read_sql() function and assign the variable `wage` to\n",
    "# the dataframe returned by the function\n",
    "partial_evaluation = pd.read_sql(QUERY, con=sql_connection)"
   ]
  },
  {
   "cell_type": "code",
   "execution_count": null,
   "metadata": {},
   "outputs": [],
   "source": [
    "partial_evaluation.columns"
   ]
  },
  {
   "cell_type": "code",
   "execution_count": null,
   "metadata": {
    "collapsed": true
   },
   "outputs": [],
   "source": [
    "#partial_evaluation = oldSpell_end>='2010-01-01' AND a.oldSpell_end<='2017-12-31'\n",
    "#c6.snap_cancelled_identify_hh_indcase_spells;\"2010-05-31\";\"2017-01-31\"\n",
    "#c6.return_hh_indcase_spells:\"1989-04-30\";\"2017-01-31\"\n",
    "#wage record: 2005q1-2015q4\n",
    "#c6.tanf_cancelled_identify_hh_indcase_spells: \"2010-04-30\";\"2017-01-31\"; \n",
    "df=partial_evaluation[(partial_evaluation['oldspell_end']>=datetime.date(2010,4,30)) & (partial_evaluation['oldspell_end'] <=\n",
    "                                                          datetime.date(2017,1,31))]\n",
    "#partial_evaluation['oldspell_end'].dtypes"
   ]
  },
  {
   "cell_type": "code",
   "execution_count": null,
   "metadata": {},
   "outputs": [],
   "source": [
    "df.shape"
   ]
  },
  {
   "cell_type": "code",
   "execution_count": null,
   "metadata": {
    "collapsed": true
   },
   "outputs": [],
   "source": [
    "partial_evaluation=empty\n",
    "# to save some memory"
   ]
  },
  {
   "cell_type": "markdown",
   "metadata": {},
   "source": [
    "## Visualization\n",
    "Some of the most commonly used visualizations in data analysis are:\n",
    "\n",
    "- histogram\n",
    "- bar chart\n",
    "- line chart\n",
    "- pie chart\n",
    "- area chart\n",
    "\n",
    "In this session, we will focus on how to create the first three types of visualizations to help us better understand the welfare data."
   ]
  },
  {
   "cell_type": "markdown",
   "metadata": {},
   "source": [
    "#### Histogram\n",
    "A histogram represents the distribution of a variable. According to wikipedia, it is 'an estimate of the probability distribution of a continuous variable'. Let's visualize the Illinois wage data in a histogram and see the distribution.\n",
    "\n",
    "A common practice in pandas visualization is to create a figure and an ax on which the plots can be drawn on. This will come in handy if we want to draw several plots on the same ax, or save the plot for presentation.\n",
    "`fig, ax = plt.subplots(figsize=(8, 6))`\n",
    "\n",
    "where:\n",
    "the argument `figsize` takes in a 2-item tuple, the first item specifying the length of the figure, the second item, the height\n",
    "\n",
    "Then we can move on to create the plot. Depending on the `kind` of graph such as `hist`, `bar` or `line`, we can pass different arguments to the plot.\n",
    "\n",
    "After creating the graph, we can choose the save the plot to the local repository for future references."
   ]
  },
  {
   "cell_type": "code",
   "execution_count": null,
   "metadata": {},
   "outputs": [],
   "source": [
    "# create figure and ax\n",
    "fig, ax = plt.subplots(figsize=(8, 6))\n",
    "# plot the data (consider data that are not to extreme)\n",
    "#wage['wage'][wage['wage']<=100000].plot(kind='hist')\n",
    "df['gap'][df['gap']<2000].plot(kind='hist')\n",
    "# add a title\n",
    "ax.set_xlabel('gap from next new spell start to old spell end (in days)')\n",
    "ax.set_title('gap distribution', fontsize=14)\n",
    "# save the data. dpi stands for dot per inch. It is a measure of resolution.\n",
    "#fig.savefig('wage_distribution_2edquarter_2015.jpg', dpi=600)"
   ]
  },
  {
   "cell_type": "code",
   "execution_count": null,
   "metadata": {},
   "outputs": [],
   "source": [
    "# Get counts for each bin in the histogram\n",
    "# count = number of obs in bin, division = default bin size\n",
    "binsize = count, division = np.histogram(df['gap'][df['gap']<2000], bins=10)\n",
    "print(binsize)"
   ]
  },
  {
   "cell_type": "code",
   "execution_count": null,
   "metadata": {},
   "outputs": [],
   "source": [
    "df['gap'][df['gap']<1000000].describe()"
   ]
  },
  {
   "cell_type": "code",
   "execution_count": null,
   "metadata": {},
   "outputs": [],
   "source": [
    "bin_edge=[0,30.5,61,91.5,122,152.5,183,213.5,244,274.5,305,335.5,366,396.5,427,457.5,488,518.5,\n",
    "          549,579.5,610,640.5,671,701.5,732]\n",
    "_=plt.hist(df['gap'][df['gap']<=732],bins=bin_edge)\n",
    "_=plt.xticks([0,30.5,61,91.5,122,152.5,183,213.5,244,274.5,305,335.5,366,396.5,427,457.5,488,518.5,\n",
    "          549,579.5,610,640.5,671,701.5,732],[1,2,3,4,5,6,7,8,9,10,11,12,13,14,15,16,17,18,19,20,21,22,23,24])\n",
    "_=plt.xlabel('gap btw old spell end to next closest spell starts (in months)')\n",
    "_=plt.ylabel('number of spells')\n",
    "_=plt.title('hist of gap in 2 years')\n",
    "plt.margins(0.02)\n",
    "filename = \"graph_gap_hist_in_2_years\" + \".pdf\"\n",
    "plt.savefig(filename)\n",
    "plt.show()"
   ]
  },
  {
   "cell_type": "code",
   "execution_count": null,
   "metadata": {},
   "outputs": [],
   "source": [
    "# Get counts for each bin in the histogram\n",
    "# count = number of obs in bin, division = default bin size\n",
    "binsize = count, division = np.histogram(df['gap'][df['gap']<=732], bins=bin_edge)\n",
    "print(binsize)"
   ]
  },
  {
   "cell_type": "code",
   "execution_count": null,
   "metadata": {},
   "outputs": [],
   "source": [
    "#df_part1 = partial_evaluation[(partial_evaluation['gap']<=732) &(partial_evaluation['spell_cancel']==1)]\n",
    "#df_part2 = partial_evaluation[(partial_evaluation['gap']<=732) &(partial_evaluation['spell_cancel']==0)]\n",
    "bin_edge=[0,30.5,61,91.5,122,152.5,183,213.5,244,274.5,305,335.5,366,396.5,427,457.5,488,518.5,\n",
    "          549,579.5,610,640.5,671,701.5,732]\n",
    "## Alternatively, you can create and save several charts:\n",
    "for i in set(df['spell_cancel']):\n",
    "    tmp = df[df['spell_cancel'] == i]\n",
    "    plt.hist(tmp['gap'][df['gap']<=732],bins=bin_edge)\n",
    "\n",
    "    _=plt.xticks([0,30.5,61,91.5,122,152.5,183,213.5,244,274.5,305,335.5,366,396.5,427,457.5,488,518.5,\n",
    "                  549,579.5,610,640.5,671,701.5,732],[1,2,3,4,5,6,7,8,9,10,11,12,13,14,15,16,17,18,19,20,21,22,23,24])\n",
    "    _=plt.xlabel('gap btw old spell end to next closest spell starts (in months)')\n",
    "    _=plt.ylabel('number of spells')\n",
    "    _=plt.title('hist of gap in 2 years for spell_cancel is '+str(i))\n",
    "    plt.margins(0.02)\n",
    "        \n",
    "    plt.annotate('Source: IL IDHS', xy=(0.7,-0.2), xycoords=\"axes fraction\")\n",
    "    binsize = count, division = np.histogram(df['gap'][df['gap']<=732], bins=bin_edge)\n",
    "    print(binsize)\n",
    "    filename = \"graph_gap_hist_spell_cancel\" + str(i) + \".pdf\"\n",
    "    plt.savefig(filename)\n",
    "    plt.show()\n",
    "#bin_edge=[0,30.5,61,91.5,122,152.5,183,213.5,244,274.5,305,335.5,366,396.5,427,457.5,488,518.5,549,579.5,610,640.5,671,701.5,732]\n",
    "#_=plt.hist(df_part1['gap'],bins=bin_edge,facecolor=\"blue\", alpha=0.5)\n",
    "#_=plt.hist(df_part2['gap'],bins=bin_edge,facecolor=\"orange\", alpha=0.5)\n",
    "#_=plt.xticks([0,30.5,61,91.5,122,152.5,183,213.5,244,274.5,305,335.5,366,396.5,427,457.5,488,518.5,549,579.5,610,640.5,671,701.5,732],[1,2,3,4,5,6,7,8,9,10,11,12,13,14,15,16,17,18,19,20,21,22,23,24])\n",
    "#_=plt.xlabel('gap btw old spell end to next closest spell starts (in days)')\n",
    "#_=plt.ylabel('number of spells')\n",
    "#_=plt.title('hist of gap in a year')\n",
    "#plt.margins(0.02)"
   ]
  },
  {
   "cell_type": "code",
   "execution_count": null,
   "metadata": {
    "collapsed": true
   },
   "outputs": [],
   "source": [
    "def ecdf(data):\n",
    "    '''compute cumulative for a one_demensional array of measurements'''\n",
    "    #number of data points:n\n",
    "    n=len(data)\n",
    "    #x-data for the ECDF: x\n",
    "    x=np.sort(data)\n",
    "    #y-data for the ECDF: y\n",
    "    y=np.arange(1,n+1)/n\n",
    "    return x,y"
   ]
  },
  {
   "cell_type": "code",
   "execution_count": null,
   "metadata": {},
   "outputs": [],
   "source": [
    "data=df['gap'][df['gap']<1000000]\n",
    "data_1=df['gap'][(df['gap']<1000000) &(df['spell_cancel']==1)]\n",
    "data_0=df['gap'][(df['gap']<1000000) &(df['spell_cancel']==0)]\n",
    "x,y=ecdf(data)\n",
    "x_1,y_1=ecdf(data_1)\n",
    "x_0,y_0=ecdf(data_0)\n",
    "#_=plt.plot(x,y,marker='.',linestyle='none',alpha=0.4,label='all')\n",
    "_=plt.plot(x_0,y_0,marker='.',linestyle='none',alpha=0.4,label='not due to earning',color='blue')\n",
    "_=plt.plot(x_1,y_1,marker='.',linestyle='none',alpha=0.2,label='spell_cancel due to earning',color='red')\n",
    "_=plt.xlabel('gap btw old spell to return spell')\n",
    "_=plt.ylabel('ECDF empirical cumulative distribution function')\n",
    "_=plt.title('Among spells that return: ')\n",
    "plt.legend()\n",
    "#('spell canceled due to earning','not due to earning')\n",
    "plt.margins(0.02)\n",
    "filename = \"ECDF-empirical cumulative distribution\" + \".png\"\n",
    "plt.savefig(filename)\n",
    "plt.show()\n"
   ]
  },
  {
   "cell_type": "code",
   "execution_count": null,
   "metadata": {},
   "outputs": [],
   "source": [
    "print('overall in percentage')\n",
    "pd.crosstab(df['spell_cancel'],df['return_index'],normalize=True)"
   ]
  },
  {
   "cell_type": "code",
   "execution_count": null,
   "metadata": {},
   "outputs": [],
   "source": [
    "print('overall in number')\n",
    "overall=pd.crosstab(df['spell_cancel'],df['return_index'])\n",
    "pd.crosstab(df['spell_cancel'],df['return_index'])"
   ]
  },
  {
   "cell_type": "code",
   "execution_count": null,
   "metadata": {},
   "outputs": [],
   "source": [
    "pd.crosstab(df['spell_cancel'],df['oldbene_type'])"
   ]
  },
  {
   "cell_type": "code",
   "execution_count": null,
   "metadata": {
    "collapsed": true
   },
   "outputs": [],
   "source": [
    "# save dataframe to csv\n",
    "overall.to_csv('/nfshome/rzhang/Projects/C6/user/rzhang/export/crosstab_returnSpellcancel.csv')"
   ]
  },
  {
   "cell_type": "code",
   "execution_count": null,
   "metadata": {},
   "outputs": [],
   "source": [
    "print(\"in 3 years\")\n",
    "ct3yr=pd.crosstab(df[df['gap']<=1095]['spell_cancel'],df[df['gap']<=1095]['return_index'])\n",
    "pd.crosstab(df[df['gap']<=1095]['spell_cancel'],df[df['gap']<=1095]['return_index'])"
   ]
  },
  {
   "cell_type": "code",
   "execution_count": null,
   "metadata": {
    "collapsed": true
   },
   "outputs": [],
   "source": [
    "# save dataframe to csv\n",
    "ct3yr.to_csv('/nfshome/rzhang/Projects/C6/user/rzhang/export/crosstab_returnSpellcancel3yr.csv')"
   ]
  },
  {
   "cell_type": "code",
   "execution_count": null,
   "metadata": {},
   "outputs": [],
   "source": [
    "print(\"return in 2 year\")\n",
    "ct2yr=pd.crosstab(df['spell_cancel'],df['return_2yr'])\n",
    "pd.crosstab(df['spell_cancel'],df['return_2yr'])"
   ]
  },
  {
   "cell_type": "code",
   "execution_count": null,
   "metadata": {
    "collapsed": true
   },
   "outputs": [],
   "source": [
    "# save dataframe to csv\n",
    "ct2yr.to_csv('/nfshome/rzhang/Projects/C6/user/rzhang/export/crosstab_returnSpellcancel2yr.csv')"
   ]
  },
  {
   "cell_type": "code",
   "execution_count": null,
   "metadata": {},
   "outputs": [],
   "source": [
    "print(\"in 2 years\")\n",
    "pd.crosstab(df[df['gap']<=730]['spell_cancel'],df[df['gap']<=730]['return_index'])"
   ]
  },
  {
   "cell_type": "code",
   "execution_count": null,
   "metadata": {},
   "outputs": [],
   "source": [
    "print(\"return in 1 year and half\")\n",
    "ct1halfyr=pd.crosstab(df['spell_cancel'],df['return_1yr6mth'])\n",
    "pd.crosstab(df['spell_cancel'],df['return_1yr6mth'])"
   ]
  },
  {
   "cell_type": "code",
   "execution_count": null,
   "metadata": {
    "collapsed": true
   },
   "outputs": [],
   "source": [
    "# save dataframe to csv\n",
    "ct1halfyr.to_csv('/nfshome/rzhang/Projects/C6/user/rzhang/export/crosstab_returnSpellcancel1halfyr.csv')"
   ]
  },
  {
   "cell_type": "code",
   "execution_count": null,
   "metadata": {},
   "outputs": [],
   "source": [
    "print(\"return in 1 year\")\n",
    "ct1yr=pd.crosstab(df['spell_cancel'],df['return_1yr'])\n",
    "pd.crosstab(df['spell_cancel'],df['return_1yr'])"
   ]
  },
  {
   "cell_type": "code",
   "execution_count": null,
   "metadata": {
    "collapsed": true
   },
   "outputs": [],
   "source": [
    "# save dataframe to csv\n",
    "ct1yr.to_csv('/nfshome/rzhang/Projects/C6/user/rzhang/export/crosstab_returnSpellcancel1yr.csv')"
   ]
  },
  {
   "cell_type": "code",
   "execution_count": null,
   "metadata": {},
   "outputs": [],
   "source": [
    "print(\"return in half year\")\n",
    "pd.crosstab(df['spell_cancel'],df['return_6mth'])"
   ]
  },
  {
   "cell_type": "code",
   "execution_count": null,
   "metadata": {},
   "outputs": [],
   "source": [
    "print(\"return in 3 month\")\n",
    "pd.crosstab(df['spell_cancel'],df['return_3mth'])"
   ]
  },
  {
   "cell_type": "code",
   "execution_count": null,
   "metadata": {},
   "outputs": [],
   "source": [
    "print(\"in 1 years\")\n",
    "pd.crosstab(df[df['gap']<=365]['spell_cancel'],df[df['gap']<=365]['return_index'])"
   ]
  },
  {
   "cell_type": "code",
   "execution_count": null,
   "metadata": {
    "collapsed": true
   },
   "outputs": [],
   "source": [
    "#subset of df should be wage investigation \n",
    "#c6.snap_cancelled_identify_hh_indcase_spells;\"2010-05-31\";\"2017-01-31\"\n",
    "#c6.return_hh_indcase_spells:\"1989-04-30\";\"2017-01-31\"\n",
    "#wage record: 2005q1-2015q4\n",
    "#c6.tanf_cancelled_identify_hh_indcase_spells: \"2010-04-30\";\"2017-01-31\"; \n",
    "df_wage=df[df['oldspell_end'] <=datetime.date(2014,12,31)]\n",
    "#partial_evaluation['oldspell_end'].dtypes"
   ]
  },
  {
   "cell_type": "code",
   "execution_count": null,
   "metadata": {},
   "outputs": [],
   "source": [
    "df_wage.shape"
   ]
  },
  {
   "cell_type": "code",
   "execution_count": null,
   "metadata": {},
   "outputs": [],
   "source": [
    "## Wages often have a very strong right skew:\n",
    "max_wage = df_wage[\"wage_sum_tp1t4\"].max()\n",
    "print(\"Maximum wage = \" + str(max_wage))\n",
    "print(\"Mean wage = \" + str(df_wage[\"wage_sum_tp1t4\"].mean()))\n",
    "## But most people earn under 15,000 in a quarter:\n",
    "(df_wage[\"wage_sum_tp1t4\"] < 60000).value_counts()"
   ]
  },
  {
   "cell_type": "code",
   "execution_count": null,
   "metadata": {},
   "outputs": [],
   "source": [
    "## Wages often have a very strong right skew:\n",
    "max_wage = df_wage[\"wage_sum_tp1\"].max()\n",
    "print(\"Maximum wage = \" + str(max_wage))\n",
    "print(\"Mean wage = \" + str(df_wage[\"wage_sum_tp1\"].mean()))\n",
    "## But most people earn under 15,000 in a quarter:\n",
    "(df_wage[\"wage_sum_tp1\"] < 15000).value_counts()"
   ]
  },
  {
   "cell_type": "code",
   "execution_count": null,
   "metadata": {
    "collapsed": true
   },
   "outputs": [],
   "source": [
    "#df_wage['wage_sum_tp1'].mean(skipna=True)\n",
    "#(df_wage['wage_sum_tp1'][df_wage['spell_cancel'] == 1]!=0).sum()/df_wage['wage_sum_tp1'][df_wage['spell_cancel'] == 1].count()"
   ]
  },
  {
   "cell_type": "code",
   "execution_count": null,
   "metadata": {},
   "outputs": [],
   "source": [
    "df_wage['wage_sum_tp1'][df_wage['spell_cancel'] == 1].count()"
   ]
  },
  {
   "cell_type": "code",
   "execution_count": null,
   "metadata": {},
   "outputs": [],
   "source": [
    "## Calculate mean wages by t+x quarters:\n",
    "for i in set(df_wage['spell_cancel']):\n",
    "    print(\"Mean wage tp1 spell_cancel \" + str(i) +\" is \" + str(df_wage['wage_sum_tp1'][df_wage['spell_cancel'] == i].mean()))\n",
    "    print(\"Mean wage tp2 spell_cancel \" + str(i) +\" is \" + str(df_wage['wage_sum_tp2'][df_wage['spell_cancel'] == i].mean()))\n",
    "    print(\"Mean wage tp3 spell_cancel \" + str(i) +\" is \" + str(df_wage['wage_sum_tp3'][df_wage['spell_cancel'] == i].mean()))\n",
    "    print(\"Mean wage tp4 spell_cancel \" + str(i) +\" is \" + str(df_wage['wage_sum_tp4'][df_wage['spell_cancel'] == i].mean()))\n",
    "\n",
    "    print(\"***************** for export purpose: \")\n",
    "    print(df_wage['wage_sum_tp1'][df_wage['spell_cancel'] == i].count())\n",
    "    print(df_wage['wage_sum_tp2'][df_wage['spell_cancel'] == i].count())\n",
    "    print(df_wage['wage_sum_tp3'][df_wage['spell_cancel'] == i].count())\n",
    "    print(df_wage['wage_sum_tp4'][df_wage['spell_cancel'] == i].count())\n",
    "## Calculate mean wages by t-x quarters:\n",
    "for i in set(df_wage['spell_cancel']):\n",
    "    print(\"Mean wage tm1 spell_cancel \" + str(i) +\" is \" + str(df_wage['wage_sum_tm1'][df_wage['spell_cancel'] == i].mean()))\n",
    "    print(\"Mean wage tm2 spell_cancel \" + str(i) +\" is \" + str(df_wage['wage_sum_tm2'][df_wage['spell_cancel'] == i].mean()))\n",
    "    print(\"Mean wage tm3 spell_cancel \" + str(i) +\" is \" + str(df_wage['wage_sum_tm3'][df_wage['spell_cancel'] == i].mean()))\n",
    "    print(\"Mean wage tm4 spell_cancel \" + str(i) +\" is \" + str(df_wage['wage_sum_tm4'][df_wage['spell_cancel'] == i].mean()))\n",
    "\n",
    "    print(\"*****************for export purpose: \")\n",
    "    print(df_wage['wage_sum_tm1'][df_wage['spell_cancel'] == i].count())\n",
    "    print(df_wage['wage_sum_tm2'][df_wage['spell_cancel'] == i].count())\n",
    "    print(df_wage['wage_sum_tm3'][df_wage['spell_cancel'] == i].count())\n",
    "    print(df_wage['wage_sum_tm4'][df_wage['spell_cancel'] == i].count())"
   ]
  },
  {
   "cell_type": "code",
   "execution_count": null,
   "metadata": {
    "collapsed": true
   },
   "outputs": [],
   "source": [
    "## Calculate mean wages by t+x quarters:\n",
    "f = open('/nfshome/rzhang/Projects/C6/user/rzhang/export/mean_wages.txt','w')\n",
    "for i in set(df_wage['spell_cancel']):\n",
    "    f.write(\"Mean wage tp1 spell_cancel \" + str(i) +\" is \" + str(df_wage['wage_sum_tp1'][df_wage['spell_cancel'] == i].mean())+ '\\n' )\n",
    "    f.write(\"Mean wage tp2 spell_cancel \" + str(i) +\" is \" + str(df_wage['wage_sum_tp2'][df_wage['spell_cancel'] == i].mean())+ '\\n' )\n",
    "    f.write(\"Mean wage tp3 spell_cancel \" + str(i) +\" is \" + str(df_wage['wage_sum_tp3'][df_wage['spell_cancel'] == i].mean())+ '\\n' )\n",
    "    f.write(\"Mean wage tp4 spell_cancel \" + str(i) +\" is \" + str(df_wage['wage_sum_tp4'][df_wage['spell_cancel'] == i].mean())+ '\\n' )\n",
    "\n",
    "    f.write(\"*****************\"+ '\\n' )\n",
    "## Calculate mean wages by t-x quarters:\n",
    "for i in set(df_wage['spell_cancel']):\n",
    "    f.write(\"Mean wage tm1 spell_cancel \" + str(i) +\" is \" + str(df_wage['wage_sum_tm1'][df_wage['spell_cancel'] == i].mean())+ '\\n' )\n",
    "    f.write(\"Mean wage tm2 spell_cancel \" + str(i) +\" is \" + str(df_wage['wage_sum_tm2'][df_wage['spell_cancel'] == i].mean())+ '\\n' )\n",
    "    f.write(\"Mean wage tm3 spell_cancel \" + str(i) +\" is \" + str(df_wage['wage_sum_tm3'][df_wage['spell_cancel'] == i].mean())+ '\\n' )\n",
    "    f.write(\"Mean wage tm4 spell_cancel \" + str(i) +\" is \" + str(df_wage['wage_sum_tm4'][df_wage['spell_cancel'] == i].mean())+ '\\n' )\n",
    "\n",
    "    f.write(\"*****************\"+ '\\n' )\n",
    "f.close()"
   ]
  },
  {
   "cell_type": "code",
   "execution_count": null,
   "metadata": {},
   "outputs": [],
   "source": [
    "df_wage['num_emp_tp1'].mean()"
   ]
  },
  {
   "cell_type": "code",
   "execution_count": null,
   "metadata": {},
   "outputs": [],
   "source": [
    "## Calculate % have a wage !=0 by t+x quarters:\n",
    "for i in set(df_wage['spell_cancel']):\n",
    "    print(\"% observe wage !=0 tp1 spell_cancel \" + str(i) +\" is \" + str((df_wage['wage_sum_tp1'][df_wage['spell_cancel'] == i]!=0).sum()/df_wage['wage_sum_tp1'][df_wage['spell_cancel'] == i].count()))\n",
    "    print(\"% observe wage !=0 tp2 spell_cancel \" + str(i) +\" is \" + str((df_wage['wage_sum_tp2'][df_wage['spell_cancel'] == i]!=0).sum()/df_wage['wage_sum_tp2'][df_wage['spell_cancel'] ==i ].count()))\n",
    "    print(\"% observe wage !=0 tp3 spell_cancel \" + str(i) +\" is \" + str((df_wage['wage_sum_tp3'][df_wage['spell_cancel'] == i]!=0).sum()/df_wage['wage_sum_tp3'][df_wage['spell_cancel'] ==i ].count()))\n",
    "    print(\"% observe wage !=0 tp4 spell_cancel \" + str(i) +\" is \" + str((df_wage['wage_sum_tp4'][df_wage['spell_cancel'] == i]!=0).sum()/df_wage['wage_sum_tp4'][df_wage['spell_cancel'] == i].count()))\n",
    "\n",
    "    print(\"*****************for export purpose: \")\n",
    "    print((df_wage['wage_sum_tp1'][df_wage['spell_cancel'] == i]!=0).count())\n",
    "    print((df_wage['wage_sum_tp2'][df_wage['spell_cancel'] == i]!=0).count())\n",
    "    print((df_wage['wage_sum_tp3'][df_wage['spell_cancel'] == i]!=0).count())\n",
    "    print((df_wage['wage_sum_tp4'][df_wage['spell_cancel'] == i]!=0).count())\n",
    "                \n",
    "    print(\"***************** for export purpose: \")\n",
    "    print(df_wage['wage_sum_tp1'][df_wage['spell_cancel'] == i].count())\n",
    "    print(df_wage['wage_sum_tp2'][df_wage['spell_cancel'] == i].count())\n",
    "    print(df_wage['wage_sum_tp3'][df_wage['spell_cancel'] == i].count())\n",
    "    print(df_wage['wage_sum_tp4'][df_wage['spell_cancel'] == i].count())\n",
    "    \n",
    "## Calculate % have a wage !=0 by t-x quarters:\n",
    "for i in set(df_wage['spell_cancel']):\n",
    "    print(\"% observe wage !=0 tm1 spell_cancel \" + str(i) +\" is \" + str((df_wage['wage_sum_tm1'][df_wage['spell_cancel'] == i]!=0).sum()/df_wage['wage_sum_tm1'][df_wage['spell_cancel'] == i].count()))\n",
    "    print(\"% observe wage !=0 tm2 spell_cancel \" + str(i) +\" is \" + str((df_wage['wage_sum_tm2'][df_wage['spell_cancel'] == i]!=0).sum()/df_wage['wage_sum_tm2'][df_wage['spell_cancel'] ==i ].count()))\n",
    "    print(\"% observe wage !=0 tm3 spell_cancel \" + str(i) +\" is \" + str((df_wage['wage_sum_tm3'][df_wage['spell_cancel'] == i]!=0).sum()/df_wage['wage_sum_tm3'][df_wage['spell_cancel'] ==i ].count()))\n",
    "    print(\"% observe wage !=0 tm4 spell_cancel \" + str(i) +\" is \" + str((df_wage['wage_sum_tm4'][df_wage['spell_cancel'] == i]!=0).sum()/df_wage['wage_sum_tm4'][df_wage['spell_cancel'] == i].count()))\n",
    "\n",
    "    print(\"*****************\")\n",
    "    print(\"*****************for export purpose: \")\n",
    "    print((df_wage['wage_sum_tm1'][df_wage['spell_cancel'] == i]!=0).count())\n",
    "    print((df_wage['wage_sum_tm2'][df_wage['spell_cancel'] == i]!=0).count())\n",
    "    print((df_wage['wage_sum_tm3'][df_wage['spell_cancel'] == i]!=0).count())\n",
    "    print((df_wage['wage_sum_tm4'][df_wage['spell_cancel'] == i]!=0).count())\n",
    "                \n",
    "    print(\"***************** for export purpose: \")\n",
    "    print(df_wage['wage_sum_tm1'][df_wage['spell_cancel'] == i].count())\n",
    "    print(df_wage['wage_sum_tm2'][df_wage['spell_cancel'] == i].count())\n",
    "    print(df_wage['wage_sum_tm3'][df_wage['spell_cancel'] == i].count())\n",
    "    print(df_wage['wage_sum_tm4'][df_wage['spell_cancel'] == i].count())"
   ]
  },
  {
   "cell_type": "code",
   "execution_count": null,
   "metadata": {
    "collapsed": true
   },
   "outputs": [],
   "source": [
    "## Calculate % have a wage !=0 by t+x quarters:\n",
    "f = open('/nfshome/rzhang/Projects/C6/user/rzhang/export/observed_wages.txt','w')\n",
    "for i in set(df_wage['spell_cancel']):\n",
    "    f.write(\"% observe wage !=0 tp1 spell_cancel \" + str(i) +\" is \" + str((df_wage['wage_sum_tp1'][df_wage['spell_cancel'] == i]!=0).sum()/df_wage['wage_sum_tp1'][df_wage['spell_cancel'] == i].count())+ '\\n' )\n",
    "    f.write(\"% observe wage !=0 tp2 spell_cancel \" + str(i) +\" is \" + str((df_wage['wage_sum_tp2'][df_wage['spell_cancel'] == i]!=0).sum()/df_wage['wage_sum_tp2'][df_wage['spell_cancel'] ==i ].count())+ '\\n' )\n",
    "    f.write(\"% observe wage !=0 tp3 spell_cancel \" + str(i) +\" is \" + str((df_wage['wage_sum_tp3'][df_wage['spell_cancel'] == i]!=0).sum()/df_wage['wage_sum_tp3'][df_wage['spell_cancel'] ==i ].count())+ '\\n' )\n",
    "    f.write(\"% observe wage !=0 tp4 spell_cancel \" + str(i) +\" is \" + str((df_wage['wage_sum_tp4'][df_wage['spell_cancel'] == i]!=0).sum()/df_wage['wage_sum_tp4'][df_wage['spell_cancel'] == i].count())+ '\\n' )\n",
    "\n",
    "    f.write(\"*****************\"+ '\\n' )\n",
    "    \n",
    "## Calculate % have a wage !=0 by t-x quarters:\n",
    "for i in set(df_wage['spell_cancel']):\n",
    "    f.write(\"% observe wage !=0 tm1 spell_cancel \" + str(i) +\" is \" + str((df_wage['wage_sum_tm1'][df_wage['spell_cancel'] == i]!=0).sum()/df_wage['wage_sum_tm1'][df_wage['spell_cancel'] == i].count())+ '\\n' )\n",
    "    f.write(\"% observe wage !=0 tm2 spell_cancel \" + str(i) +\" is \" + str((df_wage['wage_sum_tm2'][df_wage['spell_cancel'] == i]!=0).sum()/df_wage['wage_sum_tm2'][df_wage['spell_cancel'] ==i ].count())+ '\\n' )\n",
    "    f.write(\"% observe wage !=0 tm3 spell_cancel \" + str(i) +\" is \" + str((df_wage['wage_sum_tm3'][df_wage['spell_cancel'] == i]!=0).sum()/df_wage['wage_sum_tm3'][df_wage['spell_cancel'] ==i ].count())+ '\\n' )\n",
    "    f.write(\"% observe wage !=0 tm4 spell_cancel \" + str(i) +\" is \" + str((df_wage['wage_sum_tm4'][df_wage['spell_cancel'] == i]!=0).sum()/df_wage['wage_sum_tm4'][df_wage['spell_cancel'] == i].count())+ '\\n' )\n",
    "\n",
    "    f.write(\"*****************\"+ '\\n' )\n",
    "f.close()"
   ]
  },
  {
   "cell_type": "code",
   "execution_count": null,
   "metadata": {
    "collapsed": true
   },
   "outputs": [],
   "source": [
    "#df_wage['num_emp_tp1'].mean()"
   ]
  },
  {
   "cell_type": "code",
   "execution_count": null,
   "metadata": {},
   "outputs": [],
   "source": [
    "## Calculate mean num emp by t+x quarters: Majority of them are 0\n",
    "\n",
    "for i in set(df_wage['spell_cancel']):\n",
    "    print(\"Avg emp num tp1 spell_cancel \" + str(i) +\" is \" + str(df_wage['num_emp_tp1'][df_wage['spell_cancel'] == i].mean()))\n",
    "    print(\"Avg emp num tp2 spell_cancel \" + str(i) +\" is \" + str(df_wage['num_emp_tp2'][df_wage['spell_cancel'] == i].mean()))\n",
    "    print(\"Avg emp num tp3 spell_cancel \" + str(i) +\" is \" + str(df_wage['num_emp_tp3'][df_wage['spell_cancel'] == i].mean()))\n",
    "    print(\"Avg emp num tp4 spell_cancel \" + str(i) +\" is \" + str(df_wage['num_emp_tp4'][df_wage['spell_cancel'] == i].mean()))\n",
    "\n",
    "    print(\"*****************\")\n",
    "    print(\"*****************for export purpose: \")\n",
    "    print((df_wage['num_emp_tp1'][df_wage['spell_cancel'] == i]!=0).count())\n",
    "    print((df_wage['num_emp_tp2'][df_wage['spell_cancel'] == i]!=0).count())\n",
    "    print((df_wage['num_emp_tp3'][df_wage['spell_cancel'] == i]!=0).count())\n",
    "    print((df_wage['num_emp_tp4'][df_wage['spell_cancel'] == i]!=0).count())\n",
    "    \n",
    "## Calculate mean num emp by t-x quarters: Majority of them are 0\n",
    "\n",
    "for i in set(df_wage['spell_cancel']):\n",
    "    print(\"Avg emp num tm1 spell_cancel \" + str(i) +\" is \" + str(df_wage['num_emp_tm1'][df_wage['spell_cancel'] == i].mean()))\n",
    "    print(\"Avg emp num tm2 spell_cancel \" + str(i) +\" is \" + str(df_wage['num_emp_tm2'][df_wage['spell_cancel'] == i].mean()))\n",
    "    print(\"Avg emp num tm3 spell_cancel \" + str(i) +\" is \" + str(df_wage['num_emp_tm3'][df_wage['spell_cancel'] == i].mean()))\n",
    "    print(\"Avg emp num tm4 spell_cancel \" + str(i) +\" is \" + str(df_wage['num_emp_tm4'][df_wage['spell_cancel'] == i].mean()))\n",
    "\n",
    "    print(\"*****************\")\n",
    "    print(\"*****************for export purpose: \")\n",
    "    print((df_wage['num_emp_tm1'][df_wage['spell_cancel'] == i]!=0).count())\n",
    "    print((df_wage['num_emp_tm2'][df_wage['spell_cancel'] == i]!=0).count())\n",
    "    print((df_wage['num_emp_tm3'][df_wage['spell_cancel'] == i]!=0).count())\n",
    "    print((df_wage['num_emp_tm4'][df_wage['spell_cancel'] == i]!=0).count())\n",
    "\n",
    "    #.len()"
   ]
  },
  {
   "cell_type": "code",
   "execution_count": null,
   "metadata": {
    "collapsed": true
   },
   "outputs": [],
   "source": [
    "## Calculate mean num emp by t+x quarters: Majority of them are 0\n",
    "f=open('/nfshome/rzhang/Projects/C6/user/rzhang/export/num_emplyer.txt','w')\n",
    "for i in set(df_wage['spell_cancel']):\n",
    "    f.write(\"Avg emp num tp1 spell_cancel \" + str(i) +\" is \" + str(df_wage['num_emp_tp1'][df_wage['spell_cancel'] == i].mean())+ '\\n')\n",
    "    f.write(\"Avg emp num tp2 spell_cancel \" + str(i) +\" is \" + str(df_wage['num_emp_tp2'][df_wage['spell_cancel'] == i].mean())+ '\\n')\n",
    "    f.write(\"Avg emp num tp3 spell_cancel \" + str(i) +\" is \" + str(df_wage['num_emp_tp3'][df_wage['spell_cancel'] == i].mean())+ '\\n')\n",
    "    f.write(\"Avg emp num tp4 spell_cancel \" + str(i) +\" is \" + str(df_wage['num_emp_tp4'][df_wage['spell_cancel'] == i].mean())+ '\\n')\n",
    "\n",
    "    f.write(\"*****************\"+ '\\n')\n",
    "    \n",
    "## Calculate mean num emp by t-x quarters: Majority of them are 0\n",
    "\n",
    "for i in set(df_wage['spell_cancel']):\n",
    "    f.write(\"Avg emp num tm1 spell_cancel \" + str(i) +\" is \" + str(df_wage['num_emp_tm1'][df_wage['spell_cancel'] == i].mean())+ '\\n')\n",
    "    f.write(\"Avg emp num tm2 spell_cancel \" + str(i) +\" is \" + str(df_wage['num_emp_tm2'][df_wage['spell_cancel'] == i].mean())+ '\\n')\n",
    "    f.write(\"Avg emp num tm3 spell_cancel \" + str(i) +\" is \" + str(df_wage['num_emp_tm3'][df_wage['spell_cancel'] == i].mean())+ '\\n')\n",
    "    f.write(\"Avg emp num tm4 spell_cancel \" + str(i) +\" is \" + str(df_wage['num_emp_tm4'][df_wage['spell_cancel'] == i].mean())+ '\\n')\n",
    "\n",
    "    f.write(\"*****************\"+ '\\n')\n",
    "f.close()"
   ]
  },
  {
   "cell_type": "code",
   "execution_count": null,
   "metadata": {
    "collapsed": true
   },
   "outputs": [],
   "source": []
  }
 ],
 "metadata": {
  "kernelspec": {
   "display_name": "Python 2",
   "language": "python",
   "name": "python2"
  },
  "language_info": {
   "codemirror_mode": {
    "name": "ipython",
    "version": 2
   },
   "file_extension": ".py",
   "mimetype": "text/x-python",
   "name": "python",
   "nbconvert_exporter": "python",
   "pygments_lexer": "ipython2",
   "version": "2.7.12"
  }
 },
 "nbformat": 4,
 "nbformat_minor": 2
}
